{
  "cells": [
    {
      "cell_type": "markdown",
      "metadata": {
        "colab_type": "text",
        "id": "view-in-github"
      },
      "source": [
        "<a href=\"https://colab.research.google.com/github/simpler-env/SimplerEnv/blob/main/example.ipynb\" target=\"_parent\"><img src=\"https://colab.research.google.com/assets/colab-badge.svg\" alt=\"Open In Colab\"/></a>"
      ]
    },
    {
      "cell_type": "markdown",
      "metadata": {
        "id": "atOI6yOnkxI6"
      },
      "source": [
        "# SimplerEnv: Simulated Manipulation Policy Evaluation for Real-World Robots\n",
        "\n",
        "- Project page: <https://simpler-env.github.io/>\n",
        "- Code: <https://github.com/simpler-env/SimplerEnv>"
      ]
    },
    {
      "cell_type": "markdown",
      "metadata": {
        "id": "3E3ILp1cTULl"
      },
      "source": [
        "## Installation\n"
      ]
    },
    {
      "cell_type": "code",
      "execution_count": null,
      "metadata": {
        "colab": {
          "base_uri": "https://localhost:8080/"
        },
        "id": "T5aYcrQzH9qo",
        "outputId": "7ff77e31-2cc3-4500-de1e-4e396636f33b"
      },
      "outputs": [],
      "source": [
        "# #@title [!Important]Please use a GPU runtime.\n",
        "# !nvidia-smi"
      ]
    },
    {
      "cell_type": "code",
      "execution_count": null,
      "metadata": {
        "id": "pI0Ge9viDPks"
      },
      "outputs": [],
      "source": [
        "# # @title Install vulkan for rendering\n",
        "# !apt-get install -yqq --no-install-recommends libvulkan-dev vulkan-tools\n",
        "# # below fixes some bugs introduced by some recent Colab changes\n",
        "# !mkdir -p /usr/share/vulkan/icd.d\n",
        "# !wget -q -P /usr/share/vulkan/icd.d https://raw.githubusercontent.com/haosulab/ManiSkill/main/docker/nvidia_icd.json\n",
        "# !wget -q -O /usr/share/glvnd/egl_vendor.d/10_nvidia.json https://raw.githubusercontent.com/haosulab/ManiSkill/main/docker/10_nvidia.json"
      ]
    },
    {
      "cell_type": "code",
      "execution_count": null,
      "metadata": {
        "colab": {
          "base_uri": "https://localhost:8080/"
        },
        "id": "r_EBPnGtU1zA",
        "outputId": "8f5558c9-3365-4d8f-f259-8773ee56a434"
      },
      "outputs": [],
      "source": [
        "# @title Make sure vulkan is installed correctly\n",
        "# !vulkaninfo | head -n 5"
      ]
    },
    {
      "cell_type": "code",
      "execution_count": null,
      "metadata": {
        "colab": {
          "base_uri": "https://localhost:8080/"
        },
        "id": "ZFUisRykZ4l4",
        "outputId": "fbdb2769-4798-45f0-e835-39d98a02a392"
      },
      "outputs": [],
      "source": [
        "# # @title Install Real2Sim\n",
        "# !pip install numpy==1.24.4\n",
        "# !pip install orbax-checkpoint==0.4.4\n",
        "# !pip install scipy==1.12.0\n",
        "# !pip install keras==2.15.0\n",
        "# !pip install tensorflow==2.15.1\n",
        "# !git clone https://github.com/simpler-env/ManiSkill2_real2sim.git\n",
        "# !pip install -e ./ManiSkill2_real2sim\n",
        "# !git clone https://github.com/simpler-env/SimplerEnv.git\n",
        "# !pip install -e ./SimplerEnv\n",
        "# !mkdir ./SimplerEnv/checkpoints"
      ]
    },
    {
      "cell_type": "code",
      "execution_count": null,
      "metadata": {
        "id": "MMuGj8uqmbgb"
      },
      "outputs": [],
      "source": [
        "#@title [Optional]Install RT-1 dependencies\n",
        "# ! pip install --quiet tf_agents"
      ]
    },
    {
      "cell_type": "code",
      "execution_count": null,
      "metadata": {
        "colab": {
          "base_uri": "https://localhost:8080/"
        },
        "id": "Ja1xGJe5mnuu",
        "outputId": "d38cbb2d-b9fe-4cd7-97ad-56f6b1905cfb"
      },
      "outputs": [],
      "source": [
        "#@title [Optional]Install Octo dependencies\n",
        "# !git clone https://github.com/octo-models/octo\n",
        "# !cd ./octo && git checkout 653c54acde686fde619855f2eac0dd6edad7116b && cd ..\n",
        "# !pip install -e ./octo\n",
        "# !pip install --upgrade \"jax[cuda12_pip]==0.4.20\" -f https://storage.googleapis.com/jax-releases/jax_cuda_releases.html --no-deps\n",
        "# !pip install --upgrade \"jaxlib[cuda12_pip]==0.4.20\" -f https://storage.googleapis.com/jax-releases/jax_cuda_releases.html --no-deps\n",
        "# !pip install jaxlib==0.4.20+cuda12.cudnn89\n",
        "# !pip install distrax==0.1.5 \"einops>= 0.6.1\""
      ]
    },
    {
      "cell_type": "code",
      "execution_count": null,
      "metadata": {
        "id": "tSGomwvFcKf-"
      },
      "outputs": [],
      "source": [
        "# @title Install other requirements\n",
        "!pip install --quiet mediapy"
      ]
    },
    {
      "cell_type": "code",
      "execution_count": null,
      "metadata": {
        "id": "4stLX8cdaWD3"
      },
      "outputs": [],
      "source": [
        "# @title [Important]Post Installation\n",
        "\n",
        "# run this so local pip installs are recognized\n",
        "import site\n",
        "site.main()"
      ]
    },
    {
      "cell_type": "markdown",
      "metadata": {
        "id": "TZJMaVVObgRt"
      },
      "source": [
        "## Create a Simulated Environment and Take Random Actions"
      ]
    },
    {
      "cell_type": "code",
      "execution_count": null,
      "metadata": {
        "colab": {
          "base_uri": "https://localhost:8080/",
          "height": 682
        },
        "id": "pMhxVs4nC9NT",
        "outputId": "fd0005a4-d0aa-42e8-b739-de266edb8916"
      },
      "outputs": [],
      "source": [
        "import simpler_env\n",
        "from simpler_env.utils.env.observation_utils import get_image_from_maniskill2_obs_dict\n",
        "import mediapy\n",
        "import sapien.core as sapien\n",
        "\n",
        "task_name = \"google_robot_open_drawer\"  # @param [\"google_robot_pick_coke_can\", \"google_robot_move_near\", \"google_robot_open_drawer\", \"google_robot_close_drawer\", \"widowx_spoon_on_towel\", \"widowx_carrot_on_plate\", \"widowx_stack_cube\", \"widowx_put_eggplant_in_basket\"]\n",
        "\n",
        "if 'env' in locals():\n",
        "  print(\"Closing existing env\")\n",
        "  env.close()\n",
        "  del env\n",
        "env = simpler_env.make(task_name)\n",
        "# Colab GPU does not supoort denoiser\n",
        "sapien.render_config.rt_use_denoiser = False\n",
        "obs, reset_info = env.reset()\n",
        "instruction = env.get_language_instruction()\n",
        "print(\"Reset info\", reset_info)\n",
        "print(\"Instruction\", instruction)\n",
        "\n",
        "frames = []\n",
        "done, truncated = False, False\n",
        "while not (done or truncated):\n",
        "   # action[:3]: delta xyz; action[3:6]: delta rotation in axis-angle representation;\n",
        "   # action[6:7]: gripper (the meaning of open / close depends on robot URDF)\n",
        "   image = get_image_from_maniskill2_obs_dict(env, obs)\n",
        "   action = env.action_space.sample() # replace this with your policy inference\n",
        "   obs, reward, done, truncated, info = env.step(action)\n",
        "   frames.append(image)\n",
        "\n",
        "episode_stats = info.get('episode_stats', {})\n",
        "print(\"Episode stats\", episode_stats)\n",
        "mediapy.show_video(frames, fps=10)"
      ]
    },
    {
      "cell_type": "markdown",
      "metadata": {
        "id": "0Epp91kpcqWv"
      },
      "source": [
        "## Run Inference on Simulated Environments"
      ]
    },
    {
      "cell_type": "code",
      "execution_count": null,
      "metadata": {
        "id": "XgxjPOtxoAw6"
      },
      "outputs": [],
      "source": [
        "# @title Setup\n",
        "\n",
        "import os\n",
        "import numpy as np\n",
        "import simpler_env\n",
        "from simpler_env.utils.env.observation_utils import get_image_from_maniskill2_obs_dict\n",
        "import mediapy\n",
        "\n",
        "\n",
        "RT_1_CHECKPOINTS = {\n",
        "    \"rt_1_x\": \"rt_1_x_tf_trained_for_002272480_step\",\n",
        "    \"rt_1_400k\": \"rt_1_tf_trained_for_000400120\",\n",
        "    \"rt_1_58k\": \"rt_1_tf_trained_for_000058240\",\n",
        "    \"rt_1_1k\": \"rt_1_tf_trained_for_000001120\",\n",
        "}\n",
        "\n",
        "\n",
        "def get_rt_1_checkpoint(name, ckpt_dir=\"./SimplerEnv/checkpoints\"):\n",
        "  assert name in RT_1_CHECKPOINTS, name\n",
        "  ckpt_name = RT_1_CHECKPOINTS[name]\n",
        "  ckpt_path = os.path.join(ckpt_dir, ckpt_name)\n",
        "  if not os.path.exists(ckpt_path):\n",
        "    if name == \"rt_1_x\":\n",
        "      !gsutil -m cp -r gs://gdm-robotics-open-x-embodiment/open_x_embodiment_and_rt_x_oss/{ckpt_name}.zip {ckpt_dir}\n",
        "      !unzip {ckpt_dir}/{ckpt_name}.zip -d {ckpt_dir}\n",
        "    else:\n",
        "      !gsutil -m cp -r gs://gdm-robotics-open-x-embodiment/open_x_embodiment_and_rt_x_oss/{ckpt_name} {ckpt_dir}\n",
        "  return ckpt_path"
      ]
    },
    {
      "cell_type": "code",
      "execution_count": null,
      "metadata": {
        "colab": {
          "base_uri": "https://localhost:8080/"
        },
        "id": "p4IwfAe_rgDr",
        "outputId": "a3ef17ad-bb1d-412a-c741-c06791861725"
      },
      "outputs": [],
      "source": [
        "# @title Select your model and environment\n",
        "\n",
        "task_name = \"google_robot_open_drawer\"  # @param [\"google_robot_pick_coke_can\", \"google_robot_move_near\", \"google_robot_open_drawer\", \"google_robot_close_drawer\", \"widowx_spoon_on_towel\", \"widowx_carrot_on_plate\", \"widowx_stack_cube\", \"widowx_put_eggplant_in_basket\"]\n",
        "\n",
        "if 'env' in locals():\n",
        "  print(\"Closing existing env\")\n",
        "  env.close()\n",
        "  del env\n",
        "env = simpler_env.make(task_name)\n",
        "\n",
        "# Note: we turned off the denoiser as the colab kernel will crash if it's turned on\n",
        "# To use the denoiser, please git clone our SIMPLER environments\n",
        "# and perform evaluations locally.\n",
        "sapien.render_config.rt_use_denoiser = False\n",
        "\n",
        "obs, reset_info = env.reset()\n",
        "instruction = env.get_language_instruction()\n",
        "print(\"Reset info\", reset_info)\n",
        "print(\"Instruction\", instruction)\n",
        "\n",
        "if \"google\" in task_name:\n",
        "  policy_setup = \"google_robot\"\n",
        "else:\n",
        "  policy_setup = \"widowx_bridge\""
      ]
    },
    {
      "cell_type": "code",
      "execution_count": null,
      "metadata": {
        "colab": {
          "base_uri": "https://localhost:8080/"
        },
        "id": "J8kyi5Czp0yH",
        "outputId": "61f1c430-68d5-4a0d-efc6-c066f8f6c5af"
      },
      "outputs": [],
      "source": [
        "# @title Select your model and environment\n",
        "model_name = \"rt_1_x\" # @param [\"rt_1_x\", \"rt_1_400k\", \"rt_1_58k\", \"rt_1_1k\", \"octo-base\", \"octo-small\",\"openvla\",\"spatialvla\",\"cogact\"]\n",
        "# openvla: Out of cuda memory\n",
        "if \"rt_1\" in model_name:\n",
        "  from simpler_env.policies.rt1.rt1_model import RT1Inference\n",
        "\n",
        "  ckpt_path = get_rt_1_checkpoint(model_name)\n",
        "  model = RT1Inference(saved_model_path=ckpt_path, policy_setup=policy_setup)\n",
        "elif \"octo\" in model_name:\n",
        "  from simpler_env.policies.octo.octo_model import OctoInference\n",
        "\n",
        "  model = OctoInference(model_type=model_name, policy_setup=policy_setup, init_rng=0)\n",
        "elif \"openvla\" in model_name:\n",
        "  from simpler_env.policies.openvla.openvla_model import OpenVLAInference\n",
        "  model = OpenVLAInference(policy_setup=policy_setup)\n",
        "elif \"cogact\" in model_name:\n",
        "  from simpler_env.policies.sim_cogact.cogact_policy import CogACTInference\n",
        "  model = CogACTInference(policy_setup=policy_setup)\n",
        "elif \"spatialvla\" in model_name:\n",
        "  from simpler_env.policies.spatialvla.spatialvla_model import SpatialVLAInference\n",
        "  model = SpatialVLAInference(policy_setup=policy_setup)\n",
        "else:\n",
        "  raise ValueError(model_name)\n"
      ]
    },
    {
      "cell_type": "code",
      "execution_count": null,
      "metadata": {
        "cellView": "form",
        "colab": {
          "base_uri": "https://localhost:8080/"
        },
        "id": "NfXbTg_ddy5O",
        "outputId": "f7406200-53c8-4c97-8b9f-d55f39b3b57f"
      },
      "outputs": [],
      "source": [
        "#@title Run inference\n",
        "\n",
        "obs, reset_info = env.reset()\n",
        "instruction = env.get_language_instruction()\n",
        "model.reset(instruction)\n",
        "print(instruction)\n",
        "\n",
        "image = get_image_from_maniskill2_obs_dict(env, obs)  # np.ndarray of shape (H, W, 3), uint8\n",
        "images = [image]\n",
        "predicted_terminated, success, truncated = False, False, False\n",
        "timestep = 0\n",
        "while not (predicted_terminated or truncated):\n",
        "    # step the model; \"raw_action\" is raw model action output; \"action\" is the processed action to be sent into maniskill env\n",
        "    raw_action, action = model.step(image)\n",
        "    predicted_terminated = bool(action[\"terminate_episode\"][0] > 0)\n",
        "    obs, reward, success, truncated, info = env.step(\n",
        "        np.concatenate([action[\"world_vector\"], action[\"rot_axangle\"], action[\"gripper\"]])\n",
        "    )\n",
        "    print(timestep, info)\n",
        "    # update image observation\n",
        "    image = get_image_from_maniskill2_obs_dict(env, obs)\n",
        "    images.append(image)\n",
        "    timestep += 1\n",
        "\n",
        "episode_stats = info.get(\"episode_stats\", {})\n",
        "print(f\"Episode success: {success}\")"
      ]
    },
    {
      "cell_type": "code",
      "execution_count": null,
      "metadata": {
        "colab": {
          "base_uri": "https://localhost:8080/",
          "height": 553
        },
        "id": "ZiiQ0Fnqy2Wb",
        "outputId": "bd5e489d-6c2c-45c2-eab2-fd114c4f89ee"
      },
      "outputs": [],
      "source": [
        "print(task_name, model_name)\n",
        "mediapy.show_video(images, fps=10)"
      ]
    },
    {
      "cell_type": "markdown",
      "metadata": {
        "id": "v69YCHasyz3O"
      },
      "source": [
        "## Gallery"
      ]
    },
    {
      "cell_type": "code",
      "execution_count": null,
      "metadata": {
        "colab": {
          "base_uri": "https://localhost:8080/",
          "height": 535
        },
        "id": "pe59bPnNyka6",
        "outputId": "46f14748-9c0b-4017-9427-2750f423e7a7"
      },
      "outputs": [],
      "source": [
        "# @markdown RT-1-X close drawer\n",
        "print(task_name, model_name)\n",
        "mediapy.show_video(images, fps=10)\n",
        "# Note: we turned off the denoiser as the colab kernel will crash if it's turned on\n",
        "# To use the denoiser, please git clone our SIMPLER environments\n",
        "# and perform evaluations locally."
      ]
    },
    {
      "cell_type": "code",
      "execution_count": null,
      "metadata": {
        "colab": {
          "base_uri": "https://localhost:8080/",
          "height": 521
        },
        "id": "b8pDRz-dzUJZ",
        "outputId": "0515dec6-5ccf-4811-b0ae-67710965f245"
      },
      "outputs": [],
      "source": [
        "# @markdown Octo-base widowx_put_eggplant_in_basket\n",
        "print(task_name, model_name)\n",
        "mediapy.show_video(images, fps=10)"
      ]
    }
  ],
  "metadata": {
    "accelerator": "GPU",
    "colab": {
      "collapsed_sections": [
        "TZJMaVVObgRt"
      ],
      "gpuType": "T4",
      "include_colab_link": true,
      "provenance": []
    },
    "kernelspec": {
      "display_name": "simpler_env",
      "language": "python",
      "name": "python3"
    },
    "language_info": {
      "codemirror_mode": {
        "name": "ipython",
        "version": 3
      },
      "file_extension": ".py",
      "mimetype": "text/x-python",
      "name": "python",
      "nbconvert_exporter": "python",
      "pygments_lexer": "ipython3",
      "version": "3.10.16"
    }
  },
  "nbformat": 4,
  "nbformat_minor": 0
}
